{
 "cells": [
  {
   "cell_type": "code",
   "execution_count": 97,
   "id": "200eb3db",
   "metadata": {},
   "outputs": [],
   "source": [
    "import numpy as np\n",
    "import matplotlib.pyplot as plt\n",
    "\n",
    "# Вариант 25\n",
    "\n",
    "# данные для задания 1\n",
    "\n",
    "fD_0 = np.array([\n",
    "    [3.2, -4.3, 2, -1.9,  1.2, -3.3],\n",
    "])\n",
    "fD_0 = np.reshape(fD_0,(6,1))\n",
    "fD_1 = np.array([\n",
    "    [-2.9, 4.1, 0.5, -3.4, 4.8, -2.5]\n",
    "])\n",
    "fD_1 = np.reshape(fD_1,(6,1))\n",
    "fLabel = np.reshape(np.array([0, 1, 1, 0, 1, 0]),(6,1))\n",
    "fData = np.hstack([fD_0, fD_1])\n",
    "\n",
    "# данные для задания 2\n",
    "\n",
    "newArr = np.array([[0,-4],[2,3],[1,5],[4,2],[3,2],[-1,-1]])\n",
    "fData2 = np.row_stack((fData, newArr))\n",
    "newArrLabel = np.array([[0],[0],[1],[1],[0],[1]])\n",
    "fLabel2 = np.row_stack((fLabel, newArrLabel))\n",
    "\n",
    "# данные для задания 3\n",
    "\n",
    "sD_0 = np.array([\n",
    "    [0.7, 2.3, -2.6, -4.2,  1.6,  3.9,  2.6,  4.2]\n",
    "])\n",
    "sD_1 = np.array([\n",
    "    [3.4, 0.8,  1.6,   1.2,  2.2,  4.8,  0.8,  0.8]\n",
    "])\n",
    "sL_0 = np.array([\n",
    "    [1, 0, 1, 1, 0, 1, 0, 0]\n",
    "])\n",
    "sL_1 =  np.array([\n",
    "    [1, 1, 1, 1, 1, 0, 1, 0]\n",
    "])\n",
    "sD_0 = np.reshape(sD_0,(8,1))\n",
    "sD_1 = np.reshape(sD_1,(8,1))\n",
    "sL_0 = np.reshape(sL_0,(8,1))\n",
    "sL_1 = np.reshape(sL_1,(8,1))\n",
    "sData = np.hstack([sD_0, sD_1])\n",
    "sLabel = np.hstack([sL_0, sL_1])"
   ]
  },
  {
   "cell_type": "code",
   "execution_count": 130,
   "id": "bcc459fd",
   "metadata": {},
   "outputs": [],
   "source": [
    "def mean_absolute_error(predicts, targets):\n",
    "    return np.mean(np.mean(np.abs(predicts - targets), axis=0))\n",
    "\n",
    "class Perceptron:\n",
    "    def __init__(self,input_size, learningRate):\n",
    "        self.W = np.random.random(input_size)\n",
    "        self.b = 0\n",
    "        self.learningRate = learningRate\n",
    "        \n",
    "        \n",
    "    def fit(self,train_data, train_targets):\n",
    "        for x, y in zip(train_data, train_targets):\n",
    "            p   = self.predict(x)\n",
    "            err = y - p\n",
    "            self.W += self.learningRate * err * x\n",
    "            self.b += self.learningRate * err\n",
    "    \n",
    "    def predict(self,input_data):\n",
    "        p = np.sum(np.multiply(self.W, input_data)) + self.b \n",
    "        return np.heaviside(p, 0)\n",
    "    \n",
    "    def get_line(self, points):\n",
    "        return np.array([-(self.b + self.W[0] * x) / self.W[1] for x in points])\n",
    "\n",
    "class neuralNetwork:\n",
    "    def __init__(self, neuronsAmount, percepsAmount, epoch, lr):\n",
    "        self.perceps = [Perceptron(neuronsAmount, lr) for _ in range(percepsAmount)]\n",
    "        self.epoch = epoch\n",
    "        \n",
    "\n",
    "    def fit(self, X, Y):\n",
    "        for _ in range(self.epoch):\n",
    "            for i, perc in enumerate(self.perceps):\n",
    "                perc.fit(X, Y[:, i])\n",
    "    \n",
    "    def get_perceptron_lines(self, points):\n",
    "        print(np.array([p.get_line(points) for p in self.perceps]))\n",
    "        return np.array([p.get_line(points) for p in self.perceps])\n",
    "    \n",
    "    def predict(self, inputData):\n",
    "        result = []\n",
    "        for perc in self.perceps:\n",
    "            result.append([perc.predict(x) for x in inputData])\n",
    "        return np.array(result).T"
   ]
  },
  {
   "cell_type": "markdown",
   "id": "ab138314",
   "metadata": {},
   "source": [
    "#### 1 задание"
   ]
  },
  {
   "cell_type": "code",
   "execution_count": 131,
   "id": "3b2b0805",
   "metadata": {},
   "outputs": [],
   "source": [
    "nnet = neuralNetwork(2, 1, 20, 0.1)\n",
    "nnet.fit(fData, fLabel)"
   ]
  },
  {
   "cell_type": "code",
   "execution_count": 132,
   "id": "56d3d4da",
   "metadata": {},
   "outputs": [
    {
     "name": "stdout",
     "output_type": "stream",
     "text": [
      "Predictions:  [[0.]\n",
      " [1.]\n",
      " [1.]\n",
      " [0.]\n",
      " [1.]\n",
      " [0.]]\n",
      "Error:        0.0\n"
     ]
    }
   ],
   "source": [
    "predicts = nnet.predict(fData)\n",
    "print(\"Predictions: \", predicts)\n",
    "print(\"Error:       \", mean_absolute_error(predicts, fLabel))"
   ]
  },
  {
   "cell_type": "code",
   "execution_count": 133,
   "id": "c11f3b1c",
   "metadata": {},
   "outputs": [
    {
     "name": "stdout",
     "output_type": "stream",
     "text": [
      "[[ 2.70041939 -2.54185929]]\n"
     ]
    },
    {
     "data": {
      "image/png": "[encoded data removed]",
      "text/plain": [
       "<Figure size 432x288 with 1 Axes>"
      ]
     },
     "metadata": {
      "needs_background": "light"
     },
     "output_type": "display_data"
    }
   ],
   "source": [
    "plt.scatter(fData[:,0], fData[:,1], c=fLabel)\n",
    "points = [-5, 5]\n",
    "for line in nnet.get_perceptron_lines(points):\n",
    "    plt.plot(points, line)"
   ]
  },
  {
   "cell_type": "markdown",
   "id": "77fce283",
   "metadata": {},
   "source": [
    "#### 2 задание"
   ]
  },
  {
   "cell_type": "code",
   "execution_count": 134,
   "id": "b10ffa58",
   "metadata": {},
   "outputs": [],
   "source": [
    "nnet = neuralNetwork(2, 1, 20, 0.1)\n",
    "nnet.fit(fData2, fLabel2)"
   ]
  },
  {
   "cell_type": "code",
   "execution_count": 135,
   "id": "4ee85a3e",
   "metadata": {},
   "outputs": [
    {
     "name": "stdout",
     "output_type": "stream",
     "text": [
      "Predictions:  [[0.]\n",
      " [1.]\n",
      " [0.]\n",
      " [0.]\n",
      " [1.]\n",
      " [1.]\n",
      " [0.]\n",
      " [0.]\n",
      " [1.]\n",
      " [0.]\n",
      " [0.]\n",
      " [0.]]\n",
      "Error:        0.3333333333333333\n"
     ]
    }
   ],
   "source": [
    "predicts = nnet.predict(fData2)\n",
    "print(\"Predictions: \", predicts)\n",
    "print(\"Error:       \", mean_absolute_error(predicts, fLabel2))"
   ]
  },
  {
   "cell_type": "code",
   "execution_count": 136,
   "id": "490c460d",
   "metadata": {},
   "outputs": [
    {
     "name": "stdout",
     "output_type": "stream",
     "text": [
      "[[-7.31774316  9.41374077]]\n"
     ]
    },
    {
     "data": {
      "image/png": "[encoded data removed]",
      "text/plain": [
       "<Figure size 432x288 with 1 Axes>"
      ]
     },
     "metadata": {
      "needs_background": "light"
     },
     "output_type": "display_data"
    }
   ],
   "source": [
    "plt.scatter(fData2[:,0], fData2[:,1], c=fLabel2)\n",
    "points = [-5, 5]\n",
    "for line in nnet.get_perceptron_lines(points):\n",
    "    plt.plot(points, line)"
   ]
  },
  {
   "cell_type": "markdown",
   "id": "9af79f48",
   "metadata": {},
   "source": [
    "#### 3 задание"
   ]
  },
  {
   "cell_type": "code",
   "execution_count": 137,
   "id": "0bcb8021",
   "metadata": {},
   "outputs": [],
   "source": [
    "nnet = neuralNetwork(2, 2, 50, 0.1)\n",
    "nnet.fit(sData, sLabel)"
   ]
  },
  {
   "cell_type": "code",
   "execution_count": 138,
   "id": "0d69ef3d",
   "metadata": {},
   "outputs": [
    {
     "name": "stdout",
     "output_type": "stream",
     "text": [
      "Predictions:  [[1. 1.]\n",
      " [0. 1.]\n",
      " [1. 1.]\n",
      " [1. 1.]\n",
      " [0. 1.]\n",
      " [1. 0.]\n",
      " [0. 1.]\n",
      " [0. 0.]]\n",
      "Error:        0.0\n"
     ]
    }
   ],
   "source": [
    "predicts = nnet.predict(sData)\n",
    "print(\"Predictions: \", predicts)\n",
    "print(\"Error:       \", mean_absolute_error(predicts, sLabel))"
   ]
  },
  {
   "cell_type": "code",
   "execution_count": 139,
   "id": "60cbfca0",
   "metadata": {},
   "outputs": [
    {
     "name": "stdout",
     "output_type": "stream",
     "text": [
      "[3, 1, 3, 3, 1, 2, 1, 0]\n",
      "[[ -2.85334976   5.31747695]\n",
      " [156.78717783 -31.9199143 ]]\n"
     ]
    },
    {
     "data": {
      "image/png": "[encoded data removed]",
      "text/plain": [
       "<Figure size 432x288 with 1 Axes>"
      ]
     },
     "metadata": {
      "needs_background": "light"
     },
     "output_type": "display_data"
    }
   ],
   "source": [
    "print(list(map(lambda x : x[0]*2 + x[1], sLabel)))\n",
    "plt.scatter(sData[:,0], sData[:,1], c= list(map(lambda x : x[0]*2 + x[1], sLabel)))\n",
    "points = [-5, 5]\n",
    "for line in nnet.get_perceptron_lines(points):\n",
    "    plt.plot(points, line)"
   ]
  },
  {
   "cell_type": "code",
   "execution_count": null,
   "id": "ad280007",
   "metadata": {},
   "outputs": [],
   "source": []
  }
 ],
 "metadata": {
  "kernelspec": {
   "display_name": "Python 3",
   "language": "python",
   "name": "python3"
  },
  "language_info": {
   "codemirror_mode": {
    "name": "ipython",
    "version": 3
   },
   "file_extension": ".py",
   "mimetype": "text/x-python",
   "name": "python",
   "nbconvert_exporter": "python",
   "pygments_lexer": "ipython3",
   "version": "3.6.9"
  }
 },
 "nbformat": 4,
 "nbformat_minor": 5
}
