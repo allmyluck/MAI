{
 "cells": [
  {
   "cell_type": "markdown",
   "metadata": {
    "id": "R3EqSOCRy3et"
   },
   "source": [
    "## Данные\n",
    "\n",
    "Данные -  https://www.kaggle.com/ramamet4/app-store-apple-data-set-10k-apps\n",
    "Необходимо предсказать рейтинг приложения "
   ]
  },
  {
   "cell_type": "code",
   "execution_count": 3,
   "metadata": {
    "executionInfo": {
     "elapsed": 3,
     "status": "ok",
     "timestamp": 1632992893112,
     "user": {
      "displayName": "Иван Сгибнев",
      "photoUrl": "https://lh3.googleusercontent.com/a/default-user=s64",
      "userId": "13579244940532270562"
     },
     "user_tz": -180
    },
    "id": "yxBPiW79y3ew"
   },
   "outputs": [
    {
     "name": "stderr",
     "output_type": "stream",
     "text": [
      "Matplotlib created a temporary config/cache directory at /tmp/matplotlib-b1fpx6aq because the default path (/home/nikita/.config/matplotlib) is not a writable directory; it is highly recommended to set the MPLCONFIGDIR environment variable to a writable directory, in particular to speed up the import of Matplotlib and to better support multiprocessing.\n",
      "Matplotlib is building the font cache; this may take a moment.\n"
     ]
    }
   ],
   "source": [
    "import pandas as pd\n",
    "import numpy as np\n",
    "from matplotlib import pyplot as plt"
   ]
  },
  {
   "cell_type": "code",
   "execution_count": 4,
   "metadata": {
    "id": "oTzHxNFcy3e1",
    "outputId": "adffe915-598e-4996-8426-1a5f8123805d"
   },
   "outputs": [
    {
     "data": {
      "text/html": [
       "<div>\n",
       "<style scoped>\n",
       "    .dataframe tbody tr th:only-of-type {\n",
       "        vertical-align: middle;\n",
       "    }\n",
       "\n",
       "    .dataframe tbody tr th {\n",
       "        vertical-align: top;\n",
       "    }\n",
       "\n",
       "    .dataframe thead th {\n",
       "        text-align: right;\n",
       "    }\n",
       "</style>\n",
       "<table border=\"1\" class=\"dataframe\">\n",
       "  <thead>\n",
       "    <tr style=\"text-align: right;\">\n",
       "      <th></th>\n",
       "      <th>Unnamed: 0</th>\n",
       "      <th>id</th>\n",
       "      <th>track_name</th>\n",
       "      <th>size_bytes</th>\n",
       "      <th>currency</th>\n",
       "      <th>price</th>\n",
       "      <th>rating_count_tot</th>\n",
       "      <th>rating_count_ver</th>\n",
       "      <th>user_rating</th>\n",
       "      <th>user_rating_ver</th>\n",
       "      <th>ver</th>\n",
       "      <th>cont_rating</th>\n",
       "      <th>prime_genre</th>\n",
       "      <th>sup_devices.num</th>\n",
       "      <th>ipadSc_urls.num</th>\n",
       "      <th>lang.num</th>\n",
       "      <th>vpp_lic</th>\n",
       "    </tr>\n",
       "  </thead>\n",
       "  <tbody>\n",
       "    <tr>\n",
       "      <th>0</th>\n",
       "      <td>1</td>\n",
       "      <td>281656475</td>\n",
       "      <td>PAC-MAN Premium</td>\n",
       "      <td>100788224</td>\n",
       "      <td>USD</td>\n",
       "      <td>3.99</td>\n",
       "      <td>21292</td>\n",
       "      <td>26</td>\n",
       "      <td>4.0</td>\n",
       "      <td>4.5</td>\n",
       "      <td>6.3.5</td>\n",
       "      <td>4+</td>\n",
       "      <td>Games</td>\n",
       "      <td>38</td>\n",
       "      <td>5</td>\n",
       "      <td>10</td>\n",
       "      <td>1</td>\n",
       "    </tr>\n",
       "    <tr>\n",
       "      <th>1</th>\n",
       "      <td>2</td>\n",
       "      <td>281796108</td>\n",
       "      <td>Evernote - stay organized</td>\n",
       "      <td>158578688</td>\n",
       "      <td>USD</td>\n",
       "      <td>0.00</td>\n",
       "      <td>161065</td>\n",
       "      <td>26</td>\n",
       "      <td>4.0</td>\n",
       "      <td>3.5</td>\n",
       "      <td>8.2.2</td>\n",
       "      <td>4+</td>\n",
       "      <td>Productivity</td>\n",
       "      <td>37</td>\n",
       "      <td>5</td>\n",
       "      <td>23</td>\n",
       "      <td>1</td>\n",
       "    </tr>\n",
       "    <tr>\n",
       "      <th>2</th>\n",
       "      <td>3</td>\n",
       "      <td>281940292</td>\n",
       "      <td>WeatherBug - Local Weather, Radar, Maps, Alerts</td>\n",
       "      <td>100524032</td>\n",
       "      <td>USD</td>\n",
       "      <td>0.00</td>\n",
       "      <td>188583</td>\n",
       "      <td>2822</td>\n",
       "      <td>3.5</td>\n",
       "      <td>4.5</td>\n",
       "      <td>5.0.0</td>\n",
       "      <td>4+</td>\n",
       "      <td>Weather</td>\n",
       "      <td>37</td>\n",
       "      <td>5</td>\n",
       "      <td>3</td>\n",
       "      <td>1</td>\n",
       "    </tr>\n",
       "    <tr>\n",
       "      <th>3</th>\n",
       "      <td>4</td>\n",
       "      <td>282614216</td>\n",
       "      <td>eBay: Best App to Buy, Sell, Save! Online Shop...</td>\n",
       "      <td>128512000</td>\n",
       "      <td>USD</td>\n",
       "      <td>0.00</td>\n",
       "      <td>262241</td>\n",
       "      <td>649</td>\n",
       "      <td>4.0</td>\n",
       "      <td>4.5</td>\n",
       "      <td>5.10.0</td>\n",
       "      <td>12+</td>\n",
       "      <td>Shopping</td>\n",
       "      <td>37</td>\n",
       "      <td>5</td>\n",
       "      <td>9</td>\n",
       "      <td>1</td>\n",
       "    </tr>\n",
       "    <tr>\n",
       "      <th>4</th>\n",
       "      <td>5</td>\n",
       "      <td>282935706</td>\n",
       "      <td>Bible</td>\n",
       "      <td>92774400</td>\n",
       "      <td>USD</td>\n",
       "      <td>0.00</td>\n",
       "      <td>985920</td>\n",
       "      <td>5320</td>\n",
       "      <td>4.5</td>\n",
       "      <td>5.0</td>\n",
       "      <td>7.5.1</td>\n",
       "      <td>4+</td>\n",
       "      <td>Reference</td>\n",
       "      <td>37</td>\n",
       "      <td>5</td>\n",
       "      <td>45</td>\n",
       "      <td>1</td>\n",
       "    </tr>\n",
       "  </tbody>\n",
       "</table>\n",
       "</div>"
      ],
      "text/plain": [
       "   Unnamed: 0         id                                         track_name  \\\n",
       "0           1  281656475                                    PAC-MAN Premium   \n",
       "1           2  281796108                          Evernote - stay organized   \n",
       "2           3  281940292    WeatherBug - Local Weather, Radar, Maps, Alerts   \n",
       "3           4  282614216  eBay: Best App to Buy, Sell, Save! Online Shop...   \n",
       "4           5  282935706                                              Bible   \n",
       "\n",
       "   size_bytes currency  price  rating_count_tot  rating_count_ver  \\\n",
       "0   100788224      USD   3.99             21292                26   \n",
       "1   158578688      USD   0.00            161065                26   \n",
       "2   100524032      USD   0.00            188583              2822   \n",
       "3   128512000      USD   0.00            262241               649   \n",
       "4    92774400      USD   0.00            985920              5320   \n",
       "\n",
       "   user_rating  user_rating_ver     ver cont_rating   prime_genre  \\\n",
       "0          4.0              4.5   6.3.5          4+         Games   \n",
       "1          4.0              3.5   8.2.2          4+  Productivity   \n",
       "2          3.5              4.5   5.0.0          4+       Weather   \n",
       "3          4.0              4.5  5.10.0         12+      Shopping   \n",
       "4          4.5              5.0   7.5.1          4+     Reference   \n",
       "\n",
       "   sup_devices.num  ipadSc_urls.num  lang.num  vpp_lic  \n",
       "0               38                5        10        1  \n",
       "1               37                5        23        1  \n",
       "2               37                5         3        1  \n",
       "3               37                5         9        1  \n",
       "4               37                5        45        1  "
      ]
     },
     "execution_count": 4,
     "metadata": {},
     "output_type": "execute_result"
    }
   ],
   "source": [
    "data = pd.read_csv('./AppleStore.csv')\n",
    "data.head()"
   ]
  },
  {
   "cell_type": "markdown",
   "metadata": {
    "id": "dxAbj4ONy3e6"
   },
   "source": [
    "Поделим фичи на числовые и категориальные\n"
   ]
  },
  {
   "cell_type": "code",
   "execution_count": 5,
   "metadata": {
    "id": "AdvU1awHy3e7"
   },
   "outputs": [],
   "source": [
    "num_cols = [\n",
    "    'size_bytes',\n",
    "    'price',\n",
    "    'rating_count_tot',\n",
    "    'rating_count_ver',\n",
    "    'sup_devices.num',\n",
    "    'ipadSc_urls.num',\n",
    "    'lang.num',\n",
    "    'cont_rating',\n",
    "]\n",
    "\n",
    "cat_cols = [\n",
    "    'currency',\n",
    "    'prime_genre'\n",
    "]\n",
    "\n",
    "target_col = 'user_rating'\n",
    "\n",
    "cols = num_cols + cat_cols + [target_col]"
   ]
  },
  {
   "cell_type": "code",
   "execution_count": 6,
   "metadata": {
    "id": "6uCVQEzNy3fB",
    "outputId": "5efb49af-7b53-43bc-aea9-8fdbdc282d7c",
    "scrolled": false
   },
   "outputs": [
    {
     "data": {
      "text/html": [
       "<div>\n",
       "<style scoped>\n",
       "    .dataframe tbody tr th:only-of-type {\n",
       "        vertical-align: middle;\n",
       "    }\n",
       "\n",
       "    .dataframe tbody tr th {\n",
       "        vertical-align: top;\n",
       "    }\n",
       "\n",
       "    .dataframe thead th {\n",
       "        text-align: right;\n",
       "    }\n",
       "</style>\n",
       "<table border=\"1\" class=\"dataframe\">\n",
       "  <thead>\n",
       "    <tr style=\"text-align: right;\">\n",
       "      <th></th>\n",
       "      <th>size_bytes</th>\n",
       "      <th>price</th>\n",
       "      <th>rating_count_tot</th>\n",
       "      <th>rating_count_ver</th>\n",
       "      <th>sup_devices.num</th>\n",
       "      <th>ipadSc_urls.num</th>\n",
       "      <th>lang.num</th>\n",
       "      <th>cont_rating</th>\n",
       "      <th>currency</th>\n",
       "      <th>prime_genre</th>\n",
       "      <th>user_rating</th>\n",
       "    </tr>\n",
       "  </thead>\n",
       "  <tbody>\n",
       "    <tr>\n",
       "      <th>0</th>\n",
       "      <td>100788224</td>\n",
       "      <td>3.99</td>\n",
       "      <td>21292</td>\n",
       "      <td>26</td>\n",
       "      <td>38</td>\n",
       "      <td>5</td>\n",
       "      <td>10</td>\n",
       "      <td>4</td>\n",
       "      <td>USD</td>\n",
       "      <td>Games</td>\n",
       "      <td>4.0</td>\n",
       "    </tr>\n",
       "    <tr>\n",
       "      <th>1</th>\n",
       "      <td>158578688</td>\n",
       "      <td>0.00</td>\n",
       "      <td>161065</td>\n",
       "      <td>26</td>\n",
       "      <td>37</td>\n",
       "      <td>5</td>\n",
       "      <td>23</td>\n",
       "      <td>4</td>\n",
       "      <td>USD</td>\n",
       "      <td>Productivity</td>\n",
       "      <td>4.0</td>\n",
       "    </tr>\n",
       "    <tr>\n",
       "      <th>2</th>\n",
       "      <td>100524032</td>\n",
       "      <td>0.00</td>\n",
       "      <td>188583</td>\n",
       "      <td>2822</td>\n",
       "      <td>37</td>\n",
       "      <td>5</td>\n",
       "      <td>3</td>\n",
       "      <td>4</td>\n",
       "      <td>USD</td>\n",
       "      <td>Weather</td>\n",
       "      <td>3.5</td>\n",
       "    </tr>\n",
       "    <tr>\n",
       "      <th>3</th>\n",
       "      <td>128512000</td>\n",
       "      <td>0.00</td>\n",
       "      <td>262241</td>\n",
       "      <td>649</td>\n",
       "      <td>37</td>\n",
       "      <td>5</td>\n",
       "      <td>9</td>\n",
       "      <td>12</td>\n",
       "      <td>USD</td>\n",
       "      <td>Shopping</td>\n",
       "      <td>4.0</td>\n",
       "    </tr>\n",
       "    <tr>\n",
       "      <th>4</th>\n",
       "      <td>92774400</td>\n",
       "      <td>0.00</td>\n",
       "      <td>985920</td>\n",
       "      <td>5320</td>\n",
       "      <td>37</td>\n",
       "      <td>5</td>\n",
       "      <td>45</td>\n",
       "      <td>4</td>\n",
       "      <td>USD</td>\n",
       "      <td>Reference</td>\n",
       "      <td>4.5</td>\n",
       "    </tr>\n",
       "  </tbody>\n",
       "</table>\n",
       "</div>"
      ],
      "text/plain": [
       "   size_bytes  price  rating_count_tot  rating_count_ver  sup_devices.num  \\\n",
       "0   100788224   3.99             21292                26               38   \n",
       "1   158578688   0.00            161065                26               37   \n",
       "2   100524032   0.00            188583              2822               37   \n",
       "3   128512000   0.00            262241               649               37   \n",
       "4    92774400   0.00            985920              5320               37   \n",
       "\n",
       "   ipadSc_urls.num  lang.num  cont_rating currency   prime_genre  user_rating  \n",
       "0                5        10            4      USD         Games          4.0  \n",
       "1                5        23            4      USD  Productivity          4.0  \n",
       "2                5         3            4      USD       Weather          3.5  \n",
       "3                5         9           12      USD      Shopping          4.0  \n",
       "4                5        45            4      USD     Reference          4.5  "
      ]
     },
     "execution_count": 6,
     "metadata": {},
     "output_type": "execute_result"
    }
   ],
   "source": [
    "data = data[cols]\n",
    "data['cont_rating'] = data['cont_rating'].str.slice(0, -1).astype(int)\n",
    "data.head()"
   ]
  },
  {
   "cell_type": "code",
   "execution_count": 7,
   "metadata": {
    "id": "SC7qkIi8y3fF",
    "outputId": "fec11970-0ed2-4f07-ead7-71ba2e414d31"
   },
   "outputs": [
    {
     "data": {
      "text/plain": [
       "size_bytes          0.0\n",
       "price               0.0\n",
       "rating_count_tot    0.0\n",
       "rating_count_ver    0.0\n",
       "sup_devices.num     0.0\n",
       "ipadSc_urls.num     0.0\n",
       "lang.num            0.0\n",
       "cont_rating         0.0\n",
       "currency            0.0\n",
       "prime_genre         0.0\n",
       "user_rating         0.0\n",
       "dtype: float64"
      ]
     },
     "execution_count": 7,
     "metadata": {},
     "output_type": "execute_result"
    }
   ],
   "source": [
    "data.isna().mean()"
   ]
  },
  {
   "cell_type": "code",
   "execution_count": 8,
   "metadata": {
    "id": "3_JPQiJ_y3fJ",
    "outputId": "dae57f6d-1867-4e15-8ea5-867492a7ab44"
   },
   "outputs": [
    {
     "name": "stdout",
     "output_type": "stream",
     "text": [
      "currency DISTRIBUTION\n",
      "USD    7197\n",
      "Name: currency, dtype: int64\n",
      "\n",
      "prime_genre DISTRIBUTION\n",
      "Games                3862\n",
      "Entertainment         535\n",
      "Education             453\n",
      "Photo & Video         349\n",
      "Utilities             248\n",
      "Health & Fitness      180\n",
      "Productivity          178\n",
      "Social Networking     167\n",
      "Lifestyle             144\n",
      "Music                 138\n",
      "Shopping              122\n",
      "Sports                114\n",
      "Book                  112\n",
      "Finance               104\n",
      "Travel                 81\n",
      "News                   75\n",
      "Weather                72\n",
      "Reference              64\n",
      "Food & Drink           63\n",
      "Business               57\n",
      "Navigation             46\n",
      "Medical                23\n",
      "Catalogs               10\n",
      "Name: prime_genre, dtype: int64\n",
      "\n"
     ]
    }
   ],
   "source": [
    "#распределение категориальных фичей\n",
    "for col in cat_cols:\n",
    "    print(f\"{col} DISTRIBUTION\")\n",
    "    print(data[col].value_counts())\n",
    "    print()"
   ]
  },
  {
   "cell_type": "code",
   "execution_count": 9,
   "metadata": {
    "id": "csl-6myHy3fN"
   },
   "outputs": [],
   "source": [
    "#в колонке currency только одно значение, можно колонку убрать\n",
    "data = data.drop(columns=['currency'])\n",
    "cat_cols.remove('currency')"
   ]
  },
  {
   "cell_type": "code",
   "execution_count": null,
   "metadata": {
    "id": "l2p5nTDFy3fU",
    "outputId": "5a11efcc-7697-4181-be59-2e899e641dff",
    "scrolled": false
   },
   "outputs": [],
   "source": [
    "#распредление величин\n",
    "data.hist(column=num_cols+cat_cols+[target_col], figsize=(14, 10))\n",
    "None"
   ]
  },
  {
   "cell_type": "markdown",
   "metadata": {
    "id": "W1mNkeiUy3fZ"
   },
   "source": [
    "А теперь посмотрим на корреляции между фичами"
   ]
  },
  {
   "cell_type": "code",
   "execution_count": null,
   "metadata": {
    "id": "pZw73JW0y3fa",
    "outputId": "a07962f1-a725-4558-d575-1cb9f4b0448e",
    "scrolled": true
   },
   "outputs": [],
   "source": [
    "data.corr().style.background_gradient(cmap='coolwarm').set_precision(2)"
   ]
  },
  {
   "cell_type": "code",
   "execution_count": null,
   "metadata": {
    "id": "C08zuEony3fn",
    "outputId": "8a80d48e-ec0d-43f0-866f-8c4effe952bc",
    "scrolled": false
   },
   "outputs": [],
   "source": [
    "# Добавим категориальную фичу, которая говорит, бесплатное приложение или нет\n",
    "data['is_free'] = data['price'] == 0\n",
    "cat_cols.append('is_free')\n",
    "data.head()"
   ]
  },
  {
   "cell_type": "markdown",
   "metadata": {
    "id": "aBUWujK4y3fr"
   },
   "source": [
    "#### One-hot-encoding\n",
    "Самый простой способ закодировать категориальные фичи - one hot encoding. Представьте, что у нас есть категориальная фича prime_genre с возможными значениями \n",
    "> ['Games', 'Entertainment', 'Education', 'Photo & Video']\n",
    "\n",
    "мы можем создать 4 новые бинарные фичи для каждого из столбцов\n",
    "\n",
    "> 'Entertaiment' -> [0, 1, 0, 0]\n",
    "\n",
    "В pandas очень удобно использовать get_dummies для one-hot-encoding"
   ]
  },
  {
   "cell_type": "code",
   "execution_count": null,
   "metadata": {
    "id": "Zf7ueaAYy3fs",
    "outputId": "7c6af62e-4f81-4cf1-b5e4-55bf39a62a28"
   },
   "outputs": [],
   "source": [
    "a = pd.DataFrame.from_dict({'categorical': ['a', 'b', 'a', 'c']})\n",
    "a"
   ]
  },
  {
   "cell_type": "code",
   "execution_count": null,
   "metadata": {
    "id": "7TZRKn-Xy3fv",
    "outputId": "72bd8f41-7f28-4316-f4bc-398dfcdde0d5"
   },
   "outputs": [],
   "source": [
    "pd.get_dummies(a)\n"
   ]
  },
  {
   "cell_type": "code",
   "execution_count": null,
   "metadata": {
    "id": "ktXAw6G4y3fz",
    "scrolled": false
   },
   "outputs": [],
   "source": [
    "# Задание: \n",
    "# добавьте в датафрейм колонки для всех категориальных фичей и обновите список категориальных фичей\n"
   ]
  },
  {
   "cell_type": "code",
   "execution_count": null,
   "metadata": {
    "id": "KOwf47Sqy3f2"
   },
   "outputs": [],
   "source": [
    "data = pd.get_dummies(data, columns=[\"prime_genre\"], prefix=[\"prime_genre\"])"
   ]
  },
  {
   "cell_type": "code",
   "execution_count": null,
   "metadata": {
    "id": "1S7NAkkCu-cV"
   },
   "outputs": [],
   "source": [
    "cat_cols = list(data.columns.values)[9:]\n",
    "data.info()\n",
    "display(num_cols)\n",
    "display(cat_cols)"
   ]
  },
  {
   "cell_type": "markdown",
   "metadata": {
    "id": "5CsX8Hvcy3f5"
   },
   "source": [
    "### Масштабирование признаков\n",
    "\n",
    "Как мы говорили в лекции часто необходимо привести все признаки к одному масштабу. Для этого в sklearn есть специальный Transformer -- StandardScaler и MinMaxScaler.\n",
    "\n",
    "StandardScaler во время .fit() для каждого признака $x_i$ считает среднее $\\mu_i$ и стандартное отклонение $\\sigma_i$ на обучающем датасете. Во время .transform() к каждому признаку применяется:\n",
    "\n",
    "$$\\mathbf{x_i}^{\\text{new}} = \\frac{\\mathbf{x_i} - \\mu_i}{\\sigma_i}$$\n",
    "\n",
    "\n",
    "MinMaxScaler во время .fit() для каждого признака $x_i$ считает минимум $x_{i, \\text{min}}$ и максимум $x_{i, \\text{max}}$ на обучающем датасете. Во время .transform() к каждому признаку применяется:\n",
    "\n",
    "$$\\mathbf{x_i}^{\\text{new}} = \\frac{\\mathbf{x_i} - x_{i, \\text{min}}}{x_{i, \\text{max}} - x_{i, \\text{min}}}$$"
   ]
  },
  {
   "cell_type": "code",
   "execution_count": null,
   "metadata": {
    "id": "ryWzn4FAy3f6"
   },
   "outputs": [],
   "source": [
    "from sklearn.preprocessing import StandardScaler\n",
    "\n",
    "pca = StandardScaler()\n",
    "pca.fit(data[num_cols + cat_cols])\n",
    "# Выход pca - numpy матрица, положим ее в новую переменную со всеми фичами\n",
    "X = pca.transform(data[num_cols + cat_cols])"
   ]
  },
  {
   "cell_type": "markdown",
   "metadata": {
    "id": "uk4bKe1jy3f9"
   },
   "source": [
    "## Разделение на train/test\n",
    "\n"
   ]
  },
  {
   "cell_type": "code",
   "execution_count": null,
   "metadata": {
    "id": "xhDN3xvTy3gF"
   },
   "outputs": [],
   "source": [
    "from sklearn.model_selection import train_test_split"
   ]
  },
  {
   "cell_type": "code",
   "execution_count": null,
   "metadata": {
    "id": "7WZupnVWy3gJ"
   },
   "outputs": [],
   "source": [
    "X_train, X_test, y_train, y_test = train_test_split(X, data[target_col], test_size=0.2)"
   ]
  },
  {
   "cell_type": "markdown",
   "metadata": {
    "id": "YN04Y8SSy3gN"
   },
   "source": [
    "## Обучение\n"
   ]
  },
  {
   "cell_type": "code",
   "execution_count": null,
   "metadata": {
    "id": "tU6MSLCQy3gR"
   },
   "outputs": [],
   "source": [
    "from sklearn.linear_model import LinearRegression\n",
    "from sklearn.neighbors import KNeighborsRegressor\n",
    "from sklearn.tree import DecisionTreeRegressor\n",
    "from sklearn.metrics import r2_score, mean_squared_error"
   ]
  },
  {
   "cell_type": "markdown",
   "metadata": {
    "id": "N4dPdfSEy3gX"
   },
   "source": [
    "Поговорим про метрики. Метрика это, так же как и функция потерь, какая-то функция, показывающая насколько хорошо работает наша модель. Например, любой лосс можно назвать метрикой. Но не любую метрику можно назвать лоссом: лосс это именно то число, которое мы уменьшаем в процессе обучения модели + для лосса всегда верно, что чем он меньше, тем лучше. Метрики нужны как раз для того, чтобы оценивать работу алгоритма с помощью числа, которое он не учился напрямую минимизировать.\n",
    "\n",
    "Для классификации наиболее простой метрикой будет являться точность или accuracy (доля совпавших предсказаний и настоящих классов). Она никогда не используется внутри лоссов, потому что нет эффективного алгоритма, который бы позволил ее обучать модели с такой функцией потерь.\n",
    "\n",
    "В данном случае у нас задача регрессии, поэтому мы используем метрику MSE"
   ]
  },
  {
   "cell_type": "code",
   "execution_count": null,
   "metadata": {
    "id": "tcSu8p8Xy3gX"
   },
   "outputs": [],
   "source": [
    "def print_metrics(y_preds, y):\n",
    "    print(f'R^2: {r2_score(y_preds, y)}')\n",
    "    print(f'MSE: {mean_squared_error(y_preds, y)}')"
   ]
  },
  {
   "cell_type": "code",
   "execution_count": null,
   "metadata": {
    "id": "oNdfnZ4jy3gb",
    "outputId": "2e8ff1d0-0536-481e-e987-fe289ba7db2a"
   },
   "outputs": [],
   "source": [
    "# Используем обычную линейную регрессию, минимизирующую сумму квадратов ошибки\n",
    "lr = LinearRegression()\n",
    "lr.fit(X_train, y_train)\n",
    "\n",
    "print_metrics(lr.predict(X_test), y_test)"
   ]
  },
  {
   "cell_type": "code",
   "execution_count": null,
   "metadata": {
    "id": "wH0qXYNbu-cS",
    "outputId": "2e8ff1d0-0536-481e-e987-fe289ba7db2a"
   },
   "outputs": [],
   "source": [
    "knn = KNeighborsRegressor(n_neighbors=5)\n",
    "knn.fit(X_train, y_train)\n",
    "\n",
    "print_metrics(knn.predict(X_test), y_test)"
   ]
  },
  {
   "cell_type": "markdown",
   "metadata": {
    "id": "ACDf5eMEy3gt"
   },
   "source": [
    "## Cross Validation\n"
   ]
  },
  {
   "cell_type": "markdown",
   "metadata": {
    "id": "07m5iVJvy3gu"
   },
   "source": [
    "Получим из кроссвалидации метрики"
   ]
  },
  {
   "cell_type": "code",
   "execution_count": null,
   "metadata": {
    "id": "6B-hvt0xy3gv"
   },
   "outputs": [],
   "source": [
    "from sklearn.metrics import make_scorer\n",
    "from sklearn.model_selection import cross_validate"
   ]
  },
  {
   "cell_type": "code",
   "execution_count": null,
   "metadata": {
    "id": "rvBUIh8Ey3g3",
    "outputId": "2e8405b6-fdb4-4909-98c4-b2470779427d"
   },
   "outputs": [],
   "source": [
    "cross_validate(LinearRegression(), X, data[target_col], cv=5, \n",
    "               scoring={'r2_score': make_scorer(r2_score), \n",
    "                        'mean_squared_error': make_scorer(mean_squared_error)})"
   ]
  },
  {
   "cell_type": "code",
   "execution_count": null,
   "metadata": {
    "id": "7p2M51I2y3g6",
    "outputId": "4876eed0-8147-492b-d46f-bb6786983d83"
   },
   "outputs": [],
   "source": [
    "cross_validate(KNeighborsRegressor(), X, data[target_col], cv=5, \n",
    "               scoring={'r2_score': make_scorer(r2_score, ), \n",
    "                        'mean_squared_error': make_scorer(mean_squared_error)})"
   ]
  },
  {
   "cell_type": "code",
   "execution_count": null,
   "metadata": {},
   "outputs": [],
   "source": [
    "dtc = DecisionTreeRegressor()\n",
    "dtc.fit(X_train, y_train)\n",
    "print_metrics(dtc.predict(X_test), y_test)\n",
    "\n",
    "\n",
    "cross_validate(DecisionTreeRegressor(), X, data[target_col], cv=5, \n",
    "               scoring={'r2_score': make_scorer(r2_score), \n",
    "                        'mean_squared_error': make_scorer(mean_squared_error)})"
   ]
  },
  {
   "cell_type": "code",
   "execution_count": null,
   "metadata": {},
   "outputs": [],
   "source": [
    "from sklearn.ensemble import RandomForestRegressor\n",
    "\n",
    "dtc = RandomForestRegressor(10)\n",
    "dtc.fit(X_train, y_train)\n",
    "print_metrics(dtc.predict(X_test), y_test)\n",
    "\n",
    "\n",
    "cross_validate(RandomForestRegressor(), X, data[target_col], cv=5, \n",
    "               scoring={'r2_score': make_scorer(r2_score), \n",
    "                        'mean_squared_error': make_scorer(mean_squared_error)})"
   ]
  },
  {
   "cell_type": "markdown",
   "metadata": {
    "id": "UliVq-4qy3hC"
   },
   "source": [
    "## GridSearchCV\n",
    "А еще с помощью кросс валидации можно искать гиперпараметры."
   ]
  },
  {
   "cell_type": "code",
   "execution_count": null,
   "metadata": {
    "id": "0evesgvhy3hD"
   },
   "outputs": [],
   "source": [
    "from sklearn.model_selection import GridSearchCV"
   ]
  },
  {
   "cell_type": "code",
   "execution_count": null,
   "metadata": {
    "id": "Q3BiK1oBy3hG",
    "outputId": "78853985-2bcd-4330-c95b-e20cb55b208e",
    "scrolled": true
   },
   "outputs": [],
   "source": [
    "gbr_grid_search = GridSearchCV(KNeighborsRegressor(), \n",
    "                               [{'n_neighbors': [1, 2, 3, 4, 6, 8, 10, 15]}],\n",
    "                               cv=5,\n",
    "                               scoring = make_scorer(r2_score),\n",
    "                               #error_score=make_scorer(mean_squared_error),\n",
    "                               verbose=10)\n",
    "gbr_grid_search.fit(X_train, y_train)"
   ]
  },
  {
   "cell_type": "code",
   "execution_count": null,
   "metadata": {
    "id": "tTR0-nRBy3hJ",
    "outputId": "a1fd4807-5db3-405d-9965-f7aabca4ddc3"
   },
   "outputs": [],
   "source": [
    "print(gbr_grid_search.best_params_)\n",
    "print(gbr_grid_search.best_score_)\n",
    "print(gbr_grid_search.best_estimator_)"
   ]
  },
  {
   "cell_type": "markdown",
   "metadata": {},
   "source": [
    "#### Задание: Убучите несколько других моделей и получите лучшие скоры"
   ]
  },
  {
   "cell_type": "markdown",
   "metadata": {},
   "source": [
    "##### Деревья решений"
   ]
  },
  {
   "cell_type": "code",
   "execution_count": 314,
   "metadata": {},
   "outputs": [
    {
     "name": "stdout",
     "output_type": "stream",
     "text": [
      "Fitting 5 folds for each of 3 candidates, totalling 15 fits\n",
      "[CV 1/5; 1/3] START max_depth=5.................................................\n",
      "[CV 1/5; 1/3] END ..................max_depth=5;, score=0.818 total time=   0.0s\n",
      "[CV 2/5; 1/3] START max_depth=5.................................................\n",
      "[CV 2/5; 1/3] END ..................max_depth=5;, score=0.835 total time=   0.0s\n",
      "[CV 3/5; 1/3] START max_depth=5.................................................\n",
      "[CV 3/5; 1/3] END ..................max_depth=5;, score=0.801 total time=   0.0s\n",
      "[CV 4/5; 1/3] START max_depth=5.................................................\n",
      "[CV 4/5; 1/3] END ..................max_depth=5;, score=0.825 total time=   0.0s\n",
      "[CV 5/5; 1/3] START max_depth=5.................................................\n",
      "[CV 5/5; 1/3] END ..................max_depth=5;, score=0.835 total time=   0.0s\n",
      "[CV 1/5; 2/3] START max_depth=10................................................\n",
      "[CV 1/5; 2/3] END .................max_depth=10;, score=0.785 total time=   0.0s\n",
      "[CV 2/5; 2/3] START max_depth=10................................................\n",
      "[CV 2/5; 2/3] END .................max_depth=10;, score=0.784 total time=   0.0s\n",
      "[CV 3/5; 2/3] START max_depth=10................................................\n",
      "[CV 3/5; 2/3] END .................max_depth=10;, score=0.760 total time=   0.0s\n",
      "[CV 4/5; 2/3] START max_depth=10................................................\n",
      "[CV 4/5; 2/3] END .................max_depth=10;, score=0.784 total time=   0.0s\n",
      "[CV 5/5; 2/3] START max_depth=10................................................\n",
      "[CV 5/5; 2/3] END .................max_depth=10;, score=0.809 total time=   0.0s\n",
      "[CV 1/5; 3/3] START max_depth=15................................................\n",
      "[CV 1/5; 3/3] END .................max_depth=15;, score=0.718 total time=   0.0s\n",
      "[CV 2/5; 3/3] START max_depth=15................................................\n",
      "[CV 2/5; 3/3] END .................max_depth=15;, score=0.736 total time=   0.0s\n",
      "[CV 3/5; 3/3] START max_depth=15................................................\n",
      "[CV 3/5; 3/3] END .................max_depth=15;, score=0.699 total time=   0.0s\n",
      "[CV 4/5; 3/3] START max_depth=15................................................\n",
      "[CV 4/5; 3/3] END .................max_depth=15;, score=0.735 total time=   0.0s\n",
      "[CV 5/5; 3/3] START max_depth=15................................................\n",
      "[CV 5/5; 3/3] END .................max_depth=15;, score=0.760 total time=   0.0s\n"
     ]
    },
    {
     "data": {
      "text/plain": [
       "GridSearchCV(cv=5, estimator=DecisionTreeRegressor(),\n",
       "             param_grid={'max_depth': [5, 10, 15]},\n",
       "             scoring=make_scorer(r2_score), verbose=10)"
      ]
     },
     "execution_count": 314,
     "metadata": {},
     "output_type": "execute_result"
    }
   ],
   "source": [
    "gbr_grid_search = GridSearchCV(DecisionTreeRegressor(),\n",
    "                               {'max_depth': [5,10,15]\n",
    "                               },\n",
    "                               cv=5,\n",
    "                               scoring = make_scorer(r2_score),\n",
    "                               #error_score=make_scorer(mean_squared_error),\n",
    "                               verbose=10)\n",
    "gbr_grid_search.fit(X_train, y_train)"
   ]
  },
  {
   "cell_type": "code",
   "execution_count": 307,
   "metadata": {},
   "outputs": [
    {
     "name": "stdout",
     "output_type": "stream",
     "text": [
      "{'max_depth': 5}\n",
      "-0.4321852722790066\n",
      "DecisionTreeRegressor(max_depth=5)\n"
     ]
    }
   ],
   "source": [
    "print(gbr_grid_search.best_params_)\n",
    "print(gbr_grid_search.best_score_)\n",
    "print(gbr_grid_search.best_estimator_)"
   ]
  },
  {
   "cell_type": "markdown",
   "metadata": {},
   "source": [
    "##### Линейная регрессия"
   ]
  },
  {
   "cell_type": "code",
   "execution_count": 316,
   "metadata": {},
   "outputs": [
    {
     "name": "stdout",
     "output_type": "stream",
     "text": [
      "Fitting 5 folds for each of 6 candidates, totalling 30 fits\n",
      "[CV 1/5; 1/6] START fit_intercept=False, n_jobs=-1..............................\n",
      "[CV 1/5; 1/6] END fit_intercept=False, n_jobs=-1;, score=-5.184 total time=   0.0s\n",
      "[CV 2/5; 1/6] START fit_intercept=False, n_jobs=-1..............................\n",
      "[CV 2/5; 1/6] END fit_intercept=False, n_jobs=-1;, score=-5.251 total time=   0.0s\n",
      "[CV 3/5; 1/6] START fit_intercept=False, n_jobs=-1..............................\n",
      "[CV 3/5; 1/6] END fit_intercept=False, n_jobs=-1;, score=-5.921 total time=   0.0s\n",
      "[CV 4/5; 1/6] START fit_intercept=False, n_jobs=-1..............................\n",
      "[CV 4/5; 1/6] END fit_intercept=False, n_jobs=-1;, score=-5.031 total time=   0.0s\n",
      "[CV 5/5; 1/6] START fit_intercept=False, n_jobs=-1..............................\n",
      "[CV 5/5; 1/6] END fit_intercept=False, n_jobs=-1;, score=-5.156 total time=   0.0s\n",
      "[CV 1/5; 2/6] START fit_intercept=False, n_jobs=1...............................\n",
      "[CV 1/5; 2/6] END fit_intercept=False, n_jobs=1;, score=-5.184 total time=   0.0s\n",
      "[CV 2/5; 2/6] START fit_intercept=False, n_jobs=1...............................\n",
      "[CV 2/5; 2/6] END fit_intercept=False, n_jobs=1;, score=-5.251 total time=   0.0s\n",
      "[CV 3/5; 2/6] START fit_intercept=False, n_jobs=1...............................\n",
      "[CV 3/5; 2/6] END fit_intercept=False, n_jobs=1;, score=-5.921 total time=   0.0s\n",
      "[CV 4/5; 2/6] START fit_intercept=False, n_jobs=1...............................\n",
      "[CV 4/5; 2/6] END fit_intercept=False, n_jobs=1;, score=-5.031 total time=   0.0s\n",
      "[CV 5/5; 2/6] START fit_intercept=False, n_jobs=1...............................\n",
      "[CV 5/5; 2/6] END fit_intercept=False, n_jobs=1;, score=-5.156 total time=   0.0s\n",
      "[CV 1/5; 3/6] START fit_intercept=False, n_jobs=None............................\n",
      "[CV 1/5; 3/6] END fit_intercept=False, n_jobs=None;, score=-5.184 total time=   0.0s\n",
      "[CV 2/5; 3/6] START fit_intercept=False, n_jobs=None............................\n",
      "[CV 2/5; 3/6] END fit_intercept=False, n_jobs=None;, score=-5.251 total time=   0.0s\n",
      "[CV 3/5; 3/6] START fit_intercept=False, n_jobs=None............................\n",
      "[CV 3/5; 3/6] END fit_intercept=False, n_jobs=None;, score=-5.921 total time=   0.0s\n",
      "[CV 4/5; 3/6] START fit_intercept=False, n_jobs=None............................\n",
      "[CV 4/5; 3/6] END fit_intercept=False, n_jobs=None;, score=-5.031 total time=   0.0s\n",
      "[CV 5/5; 3/6] START fit_intercept=False, n_jobs=None............................\n",
      "[CV 5/5; 3/6] END fit_intercept=False, n_jobs=None;, score=-5.156 total time=   0.0s\n",
      "[CV 1/5; 4/6] START fit_intercept=True, n_jobs=-1...............................\n",
      "[CV 1/5; 4/6] END fit_intercept=True, n_jobs=-1;, score=0.140 total time=   0.0s\n",
      "[CV 2/5; 4/6] START fit_intercept=True, n_jobs=-1...............................\n",
      "[CV 2/5; 4/6] END fit_intercept=True, n_jobs=-1;, score=0.155 total time=   0.0s\n",
      "[CV 3/5; 4/6] START fit_intercept=True, n_jobs=-1...............................\n",
      "[CV 3/5; 4/6] END fit_intercept=True, n_jobs=-1;, score=0.081 total time=   0.0s\n",
      "[CV 4/5; 4/6] START fit_intercept=True, n_jobs=-1...............................\n",
      "[CV 4/5; 4/6] END fit_intercept=True, n_jobs=-1;, score=0.111 total time=   0.0s\n",
      "[CV 5/5; 4/6] START fit_intercept=True, n_jobs=-1...............................\n",
      "[CV 5/5; 4/6] END fit_intercept=True, n_jobs=-1;, score=0.116 total time=   0.0s\n",
      "[CV 1/5; 5/6] START fit_intercept=True, n_jobs=1................................\n",
      "[CV 1/5; 5/6] END .fit_intercept=True, n_jobs=1;, score=0.140 total time=   0.0s\n",
      "[CV 2/5; 5/6] START fit_intercept=True, n_jobs=1................................\n",
      "[CV 2/5; 5/6] END .fit_intercept=True, n_jobs=1;, score=0.155 total time=   0.0s\n",
      "[CV 3/5; 5/6] START fit_intercept=True, n_jobs=1................................\n",
      "[CV 3/5; 5/6] END .fit_intercept=True, n_jobs=1;, score=0.081 total time=   0.0s\n",
      "[CV 4/5; 5/6] START fit_intercept=True, n_jobs=1................................\n",
      "[CV 4/5; 5/6] END .fit_intercept=True, n_jobs=1;, score=0.111 total time=   0.0s\n",
      "[CV 5/5; 5/6] START fit_intercept=True, n_jobs=1................................\n",
      "[CV 5/5; 5/6] END .fit_intercept=True, n_jobs=1;, score=0.116 total time=   0.0s\n",
      "[CV 1/5; 6/6] START fit_intercept=True, n_jobs=None.............................\n",
      "[CV 1/5; 6/6] END fit_intercept=True, n_jobs=None;, score=0.140 total time=   0.0s\n",
      "[CV 2/5; 6/6] START fit_intercept=True, n_jobs=None.............................\n",
      "[CV 2/5; 6/6] END fit_intercept=True, n_jobs=None;, score=0.155 total time=   0.0s\n",
      "[CV 3/5; 6/6] START fit_intercept=True, n_jobs=None.............................\n",
      "[CV 3/5; 6/6] END fit_intercept=True, n_jobs=None;, score=0.081 total time=   0.0s\n",
      "[CV 4/5; 6/6] START fit_intercept=True, n_jobs=None.............................\n",
      "[CV 4/5; 6/6] END fit_intercept=True, n_jobs=None;, score=0.111 total time=   0.0s\n",
      "[CV 5/5; 6/6] START fit_intercept=True, n_jobs=None.............................\n",
      "[CV 5/5; 6/6] END fit_intercept=True, n_jobs=None;, score=0.116 total time=   0.0s\n"
     ]
    },
    {
     "data": {
      "text/plain": [
       "GridSearchCV(cv=5, estimator=LinearRegression(),\n",
       "             param_grid={'fit_intercept': [False, True],\n",
       "                         'n_jobs': [-1, 1, None]},\n",
       "             scoring=make_scorer(r2_score), verbose=10)"
      ]
     },
     "execution_count": 316,
     "metadata": {},
     "output_type": "execute_result"
    }
   ],
   "source": [
    "gbr_grid_search = GridSearchCV(LinearRegression(),\n",
    "                               {'fit_intercept': [False, True],\n",
    "                                'n_jobs': [-1, 1, None]},\n",
    "                               cv=5,\n",
    "                               scoring = make_scorer(r2_score),\n",
    "                               #error_score=make_scorer(mean_squared_error),\n",
    "                               verbose=10)\n",
    "gbr_grid_search.fit(X_train, y_train)"
   ]
  },
  {
   "cell_type": "code",
   "execution_count": 317,
   "metadata": {},
   "outputs": [
    {
     "name": "stdout",
     "output_type": "stream",
     "text": [
      "{'fit_intercept': True, 'n_jobs': -1}\n",
      "0.12068720721012587\n",
      "LinearRegression(n_jobs=-1)\n"
     ]
    }
   ],
   "source": [
    "print(gbr_grid_search.best_params_)\n",
    "print(gbr_grid_search.best_score_)\n",
    "print(gbr_grid_search.best_estimator_)"
   ]
  },
  {
   "cell_type": "markdown",
   "metadata": {},
   "source": [
    "##### Случайный лес"
   ]
  },
  {
   "cell_type": "code",
   "execution_count": 324,
   "metadata": {},
   "outputs": [
    {
     "name": "stdout",
     "output_type": "stream",
     "text": [
      "Fitting 5 folds for each of 3 candidates, totalling 15 fits\n",
      "[CV 1/5; 1/3] START n_estimators=10.............................................\n",
      "[CV 1/5; 1/3] END ..............n_estimators=10;, score=0.808 total time=   0.3s\n",
      "[CV 2/5; 1/3] START n_estimators=10.............................................\n",
      "[CV 2/5; 1/3] END ..............n_estimators=10;, score=0.822 total time=   0.3s\n",
      "[CV 3/5; 1/3] START n_estimators=10.............................................\n",
      "[CV 3/5; 1/3] END ..............n_estimators=10;, score=0.797 total time=   0.3s\n",
      "[CV 4/5; 1/3] START n_estimators=10.............................................\n",
      "[CV 4/5; 1/3] END ..............n_estimators=10;, score=0.816 total time=   0.3s\n",
      "[CV 5/5; 1/3] START n_estimators=10.............................................\n",
      "[CV 5/5; 1/3] END ..............n_estimators=10;, score=0.826 total time=   0.3s\n",
      "[CV 1/5; 2/3] START n_estimators=50.............................................\n",
      "[CV 1/5; 2/3] END ..............n_estimators=50;, score=0.822 total time=   1.6s\n",
      "[CV 2/5; 2/3] START n_estimators=50.............................................\n",
      "[CV 2/5; 2/3] END ..............n_estimators=50;, score=0.838 total time=   1.6s\n",
      "[CV 3/5; 2/3] START n_estimators=50.............................................\n",
      "[CV 3/5; 2/3] END ..............n_estimators=50;, score=0.811 total time=   1.5s\n",
      "[CV 4/5; 2/3] START n_estimators=50.............................................\n",
      "[CV 4/5; 2/3] END ..............n_estimators=50;, score=0.825 total time=   1.5s\n",
      "[CV 5/5; 2/3] START n_estimators=50.............................................\n",
      "[CV 5/5; 2/3] END ..............n_estimators=50;, score=0.842 total time=   1.6s\n",
      "[CV 1/5; 3/3] START n_estimators=100............................................\n",
      "[CV 1/5; 3/3] END .............n_estimators=100;, score=0.826 total time=   3.2s\n",
      "[CV 2/5; 3/3] START n_estimators=100............................................\n",
      "[CV 2/5; 3/3] END .............n_estimators=100;, score=0.841 total time=   3.0s\n",
      "[CV 3/5; 3/3] START n_estimators=100............................................\n",
      "[CV 3/5; 3/3] END .............n_estimators=100;, score=0.814 total time=   3.0s\n",
      "[CV 4/5; 3/3] START n_estimators=100............................................\n",
      "[CV 4/5; 3/3] END .............n_estimators=100;, score=0.827 total time=   2.9s\n",
      "[CV 5/5; 3/3] START n_estimators=100............................................\n",
      "[CV 5/5; 3/3] END .............n_estimators=100;, score=0.845 total time=   3.0s\n"
     ]
    },
    {
     "data": {
      "text/plain": [
       "GridSearchCV(cv=5, estimator=RandomForestRegressor(),\n",
       "             param_grid={'n_estimators': [10, 50, 100]},\n",
       "             scoring=make_scorer(r2_score), verbose=10)"
      ]
     },
     "execution_count": 324,
     "metadata": {},
     "output_type": "execute_result"
    }
   ],
   "source": [
    "from sklearn.ensemble import RandomForestRegressor\n",
    "\n",
    "gbr_grid_search = GridSearchCV(RandomForestRegressor(),\n",
    "                               {'n_estimators': [10,50,100]},\n",
    "                               cv=5,\n",
    "                               scoring = make_scorer(r2_score),\n",
    "                               #scoring = make_scorer(mean_squared_error),\n",
    "                               #error_score=make_scorer(mean_squared_error),\n",
    "                               verbose=10)\n",
    "gbr_grid_search.fit(X_train, y_train)"
   ]
  },
  {
   "cell_type": "code",
   "execution_count": 325,
   "metadata": {},
   "outputs": [
    {
     "name": "stdout",
     "output_type": "stream",
     "text": [
      "{'n_estimators': 100}\n",
      "0.8305011342320544\n",
      "RandomForestRegressor()\n"
     ]
    }
   ],
   "source": [
    "print(gbr_grid_search.best_params_)\n",
    "print(gbr_grid_search.best_score_)\n",
    "print(gbr_grid_search.best_estimator_)"
   ]
  },
  {
   "cell_type": "code",
   "execution_count": 327,
   "metadata": {},
   "outputs": [
    {
     "name": "stdout",
     "output_type": "stream",
     "text": [
      "R^2: 0.8079453463160674\n",
      "MSE: 0.3747399131944445\n"
     ]
    }
   ],
   "source": [
    "dtc = RandomForestRegressor(100)\n",
    "dtc.fit(X_train, y_train)\n",
    "print_metrics(dtc.predict(X_test), y_test)"
   ]
  },
  {
   "cell_type": "markdown",
   "metadata": {},
   "source": [
    "### Выводы"
   ]
  },
  {
   "cell_type": "markdown",
   "metadata": {},
   "source": [
    "###### Лучшие результаты:\n",
    "    Из использованный мною алгоритмов регрессии наилучшие результаты зафиксированы при использовании случайного Леса.\n",
    "    Чем ближе R^2 к 1, тем лучше обобщающая способность модели(в какой мере результаты данного исследования применимы к другим группам данных).\n",
    "    Самое низкое значение средней квадратичной ошибки также зафиксировано при использовании алгоритма случайного леса.\n",
    "   \n",
    "Данный датасет имееет преимущенное значение категориальных фич, поэтому неудивительно, что метод с использованием переобученных деревьев решений берет верх.\n"
   ]
  },
  {
   "cell_type": "code",
   "execution_count": null,
   "metadata": {},
   "outputs": [],
   "source": []
  }
 ],
 "metadata": {
  "colab": {
   "collapsed_sections": [],
   "name": "3.ipynb\"",
   "provenance": [
    {
     "file_id": "1z7G6bt397LXy34pf8huNmZ1Ft682Gy5e",
     "timestamp": 1632217335294
    }
   ]
  },
  "hide_input": false,
  "kernelspec": {
   "display_name": "Python 3",
   "language": "python",
   "name": "python3"
  },
  "language_info": {
   "codemirror_mode": {
    "name": "ipython",
    "version": 3
   },
   "file_extension": ".py",
   "mimetype": "text/x-python",
   "name": "python",
   "nbconvert_exporter": "python",
   "pygments_lexer": "ipython3",
   "version": "3.6.9"
  },
  "varInspector": {
   "cols": {
    "lenName": 16,
    "lenType": 16,
    "lenVar": 40
   },
   "kernels_config": {
    "python": {
     "delete_cmd_postfix": "",
     "delete_cmd_prefix": "del ",
     "library": "var_list.py",
     "varRefreshCmd": "print(var_dic_list())"
    },
    "r": {
     "delete_cmd_postfix": ") ",
     "delete_cmd_prefix": "rm(",
     "library": "var_list.r",
     "varRefreshCmd": "cat(var_dic_list()) "
    }
   },
   "types_to_exclude": [
    "module",
    "function",
    "builtin_function_or_method",
    "instance",
    "_Feature"
   ],
   "window_display": false
  }
 },
 "nbformat": 4,
 "nbformat_minor": 1
}
